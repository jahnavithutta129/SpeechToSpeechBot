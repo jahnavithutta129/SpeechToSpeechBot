{
 "cells": [
  {
   "cell_type": "code",
   "execution_count": 1,
   "id": "e292e8a9-375b-4a5e-9db2-4a6828443a06",
   "metadata": {},
   "outputs": [
    {
     "name": "stdout",
     "output_type": "stream",
     "text": [
      "Speech recognizer saved successfully.\n"
     ]
    }
   ],
   "source": [
    "# speech_to_text_model.py\n",
    "import speech_recognition as sr\n",
    "import pickle\n",
    "\n",
    "# Initialize the speech recognizer\n",
    "speech_recognizer = sr.Recognizer()\n",
    "\n",
    "# Save the recognizer to a pickle file\n",
    "with open('speech_recognizer.pkl', 'wb') as f:\n",
    "    pickle.dump(speech_recognizer, f)\n",
    "\n",
    "print(\"Speech recognizer saved successfully.\")\n"
   ]
  },
  {
   "cell_type": "code",
   "execution_count": 2,
   "id": "94754b9d-b56f-4e2d-b754-b3c21e47f358",
   "metadata": {},
   "outputs": [
    {
     "name": "stdout",
     "output_type": "stream",
     "text": [
      "GPT-2 model saved successfully.\n"
     ]
    }
   ],
   "source": [
    "# text_generation_model.py\n",
    "from transformers import GPT2LMHeadModel, GPT2Tokenizer\n",
    "import pickle\n",
    "\n",
    "# Load the model and tokenizer\n",
    "tokenizer = GPT2Tokenizer.from_pretrained('gpt2-large')\n",
    "model = GPT2LMHeadModel.from_pretrained('gpt2-large', pad_token_id=tokenizer.eos_token_id)\n",
    "\n",
    "# Save the model and tokenizer to a pickle file\n",
    "with open('gpt2_model.pkl', 'wb') as f:\n",
    "    pickle.dump((tokenizer, model), f)\n",
    "\n",
    "print(\"GPT-2 model saved successfully.\")\n"
   ]
  }
 ],
 "metadata": {
  "kernelspec": {
   "display_name": "Python 3 (ipykernel)",
   "language": "python",
   "name": "python3"
  },
  "language_info": {
   "codemirror_mode": {
    "name": "ipython",
    "version": 3
   },
   "file_extension": ".py",
   "mimetype": "text/x-python",
   "name": "python",
   "nbconvert_exporter": "python",
   "pygments_lexer": "ipython3",
   "version": "3.11.7"
  }
 },
 "nbformat": 4,
 "nbformat_minor": 5
}
